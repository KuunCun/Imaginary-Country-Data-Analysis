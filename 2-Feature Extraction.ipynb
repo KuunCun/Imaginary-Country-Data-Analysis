{
 "cells": [
  {
   "cell_type": "code",
   "execution_count": 52,
   "id": "initial_id",
   "metadata": {
    "ExecuteTime": {
     "end_time": "2024-01-09T20:36:45.487075700Z",
     "start_time": "2024-01-09T20:36:45.319341Z"
    }
   },
   "outputs": [],
   "source": [
    "import pandas as pd\n",
    "import numpy as np"
   ]
  },
  {
   "cell_type": "markdown",
   "id": "de38d81a",
   "metadata": {},
   "source": [
    "#### Reading the datasets that were created in the \"1-Exploratory Data&Target Analysis\" notebook."
   ]
  },
  {
   "cell_type": "code",
   "execution_count": 53,
   "id": "6196c18b",
   "metadata": {
    "ExecuteTime": {
     "end_time": "2024-01-09T20:36:45.592211700Z",
     "start_time": "2024-01-09T20:36:45.488079700Z"
    }
   },
   "outputs": [],
   "source": [
    "household_df = pd.read_csv(\"datasets/df_household.csv\")\n",
    "individual_df = pd.read_csv(\"datasets/df_individual.csv\")"
   ]
  },
  {
   "cell_type": "code",
   "execution_count": 54,
   "id": "80b1996bd7d744e0",
   "metadata": {
    "ExecuteTime": {
     "end_time": "2024-01-09T20:36:45.624323400Z",
     "start_time": "2024-01-09T20:36:45.557090100Z"
    }
   },
   "outputs": [],
   "source": [
    "# Combining the datasets\n",
    "combined_df = household_df.merge(individual_df, on='hid', how='left')"
   ]
  },
  {
   "cell_type": "code",
   "execution_count": 55,
   "id": "f6f506b2e006ec18",
   "metadata": {
    "ExecuteTime": {
     "end_time": "2024-01-09T20:36:45.624831300Z",
     "start_time": "2024-01-09T20:36:45.573145600Z"
    }
   },
   "outputs": [
    {
     "data": {
      "text/plain": "           hid  geo1  geo2     ea  urbrur  hhsize  statocc  rooms  bedrooms  \\\n0  00a191396a2     1    11  11066       2       1        1      1         1   \n1  0111c7fa67c     1    11  11066       2       1        2      1         0   \n2  01410d9c60d     1    11  11087       2       2        1      4         1   \n3  01410d9c60d     1    11  11087       2       2        1      4         1   \n4  015ff82b55c     1    11  11094       2       2        1      1         1   \n\n   floor  ...  disability  blind  deaf  mental  ch_weight  ch_height  \\\n0      2  ...         0.0    0.0   0.0     0.0   11.93321  86.185972   \n1      2  ...         0.0    0.0   0.0     0.0   11.93321  86.185972   \n2      2  ...         0.0    0.0   0.0     0.0   11.93321  86.185972   \n3      2  ...         0.0    0.0   0.0     0.0   11.93321  86.185972   \n4      2  ...         0.0    0.0   0.0     0.0   11.93321  86.185972   \n\n   children_born  children_surv  births_12m  hhweight_y  \n0       2.293728       3.114712    0.047968  322.972201  \n1       1.000000       1.000000    0.000000  322.972201  \n2       2.293728       3.114712    0.047968  256.192235  \n3       2.293728       3.114712    0.047968  256.192235  \n4       2.293728       3.114712    0.047968  268.334047  \n\n[5 rows x 75 columns]",
      "text/html": "<div>\n<style scoped>\n    .dataframe tbody tr th:only-of-type {\n        vertical-align: middle;\n    }\n\n    .dataframe tbody tr th {\n        vertical-align: top;\n    }\n\n    .dataframe thead th {\n        text-align: right;\n    }\n</style>\n<table border=\"1\" class=\"dataframe\">\n  <thead>\n    <tr style=\"text-align: right;\">\n      <th></th>\n      <th>hid</th>\n      <th>geo1</th>\n      <th>geo2</th>\n      <th>ea</th>\n      <th>urbrur</th>\n      <th>hhsize</th>\n      <th>statocc</th>\n      <th>rooms</th>\n      <th>bedrooms</th>\n      <th>floor</th>\n      <th>...</th>\n      <th>disability</th>\n      <th>blind</th>\n      <th>deaf</th>\n      <th>mental</th>\n      <th>ch_weight</th>\n      <th>ch_height</th>\n      <th>children_born</th>\n      <th>children_surv</th>\n      <th>births_12m</th>\n      <th>hhweight_y</th>\n    </tr>\n  </thead>\n  <tbody>\n    <tr>\n      <th>0</th>\n      <td>00a191396a2</td>\n      <td>1</td>\n      <td>11</td>\n      <td>11066</td>\n      <td>2</td>\n      <td>1</td>\n      <td>1</td>\n      <td>1</td>\n      <td>1</td>\n      <td>2</td>\n      <td>...</td>\n      <td>0.0</td>\n      <td>0.0</td>\n      <td>0.0</td>\n      <td>0.0</td>\n      <td>11.93321</td>\n      <td>86.185972</td>\n      <td>2.293728</td>\n      <td>3.114712</td>\n      <td>0.047968</td>\n      <td>322.972201</td>\n    </tr>\n    <tr>\n      <th>1</th>\n      <td>0111c7fa67c</td>\n      <td>1</td>\n      <td>11</td>\n      <td>11066</td>\n      <td>2</td>\n      <td>1</td>\n      <td>2</td>\n      <td>1</td>\n      <td>0</td>\n      <td>2</td>\n      <td>...</td>\n      <td>0.0</td>\n      <td>0.0</td>\n      <td>0.0</td>\n      <td>0.0</td>\n      <td>11.93321</td>\n      <td>86.185972</td>\n      <td>1.000000</td>\n      <td>1.000000</td>\n      <td>0.000000</td>\n      <td>322.972201</td>\n    </tr>\n    <tr>\n      <th>2</th>\n      <td>01410d9c60d</td>\n      <td>1</td>\n      <td>11</td>\n      <td>11087</td>\n      <td>2</td>\n      <td>2</td>\n      <td>1</td>\n      <td>4</td>\n      <td>1</td>\n      <td>2</td>\n      <td>...</td>\n      <td>0.0</td>\n      <td>0.0</td>\n      <td>0.0</td>\n      <td>0.0</td>\n      <td>11.93321</td>\n      <td>86.185972</td>\n      <td>2.293728</td>\n      <td>3.114712</td>\n      <td>0.047968</td>\n      <td>256.192235</td>\n    </tr>\n    <tr>\n      <th>3</th>\n      <td>01410d9c60d</td>\n      <td>1</td>\n      <td>11</td>\n      <td>11087</td>\n      <td>2</td>\n      <td>2</td>\n      <td>1</td>\n      <td>4</td>\n      <td>1</td>\n      <td>2</td>\n      <td>...</td>\n      <td>0.0</td>\n      <td>0.0</td>\n      <td>0.0</td>\n      <td>0.0</td>\n      <td>11.93321</td>\n      <td>86.185972</td>\n      <td>2.293728</td>\n      <td>3.114712</td>\n      <td>0.047968</td>\n      <td>256.192235</td>\n    </tr>\n    <tr>\n      <th>4</th>\n      <td>015ff82b55c</td>\n      <td>1</td>\n      <td>11</td>\n      <td>11094</td>\n      <td>2</td>\n      <td>2</td>\n      <td>1</td>\n      <td>1</td>\n      <td>1</td>\n      <td>2</td>\n      <td>...</td>\n      <td>0.0</td>\n      <td>0.0</td>\n      <td>0.0</td>\n      <td>0.0</td>\n      <td>11.93321</td>\n      <td>86.185972</td>\n      <td>2.293728</td>\n      <td>3.114712</td>\n      <td>0.047968</td>\n      <td>268.334047</td>\n    </tr>\n  </tbody>\n</table>\n<p>5 rows × 75 columns</p>\n</div>"
     },
     "execution_count": 55,
     "metadata": {},
     "output_type": "execute_result"
    }
   ],
   "source": [
    "combined_df.head()"
   ]
  },
  {
   "cell_type": "markdown",
   "id": "7bcb16d599927ff7",
   "metadata": {},
   "source": []
  },
  {
   "cell_type": "markdown",
   "id": "62ebf3d8109d2d54",
   "metadata": {},
   "source": [
    "### Feature Engineering"
   ]
  },
  {
   "cell_type": "markdown",
   "id": "f1b5efd5",
   "metadata": {},
   "source": [
    "The housing density is calculated by dividing the household size ('hhsize') by the total number of rooms ('rooms') plus bedrooms ('bedrooms'). Representing the number of people per room/bedroom."
   ]
  },
  {
   "cell_type": "code",
   "execution_count": 56,
   "id": "450207423babceb7",
   "metadata": {
    "ExecuteTime": {
     "end_time": "2024-01-09T20:36:45.628839Z",
     "start_time": "2024-01-09T20:36:45.589201300Z"
    }
   },
   "outputs": [],
   "source": [
    "# Housing Density\n",
    "housing_density = combined_df['hhsize'] / (combined_df['rooms'] + combined_df['bedrooms'])"
   ]
  },
  {
   "cell_type": "markdown",
   "id": "b99a8e76",
   "metadata": {},
   "source": [
    "Child & Elder Dependency Ratio is calculated. Initially, we count the number of children (aged under 18) and elderly individuals (aged over 65) per house ('hid'). Then, we merge these counts back into the main dataframe. Finally, the dependency ratio is calculated by dividing the sum of children and elderly by the household size minus the number of dependents. The purpose when calculating the Child & Elder Dependency Ratios is to understand the burden placed on a house by those who are dependent due to age."
   ]
  },
  {
   "cell_type": "code",
   "execution_count": 57,
   "id": "34cd6fddba4f06a7",
   "metadata": {
    "ExecuteTime": {
     "end_time": "2024-01-09T20:36:46.431651800Z",
     "start_time": "2024-01-09T20:36:45.604253600Z"
    }
   },
   "outputs": [],
   "source": [
    "# Child & Elder Dependency Ratio\n",
    "children_elderly_counts = combined_df.groupby('hid').agg(\n",
    "    num_children=('age', lambda x: (x < 18).sum()),\n",
    "    num_elderly=('age', lambda x: (x > 65).sum())\n",
    ").reset_index()\n",
    "\n",
    "combined_df = combined_df.drop(columns=['num_children', 'num_elderly'], errors='ignore')\n",
    "combined_df = combined_df.merge(children_elderly_counts, on='hid', how='left')\n",
    "\n",
    "dependency_ratio = (combined_df['num_children'] + combined_df['num_elderly']) / (combined_df['hhsize'] - combined_df['num_children'] - combined_df['num_elderly']).replace(0, 1)"
   ]
  },
  {
   "cell_type": "markdown",
   "id": "481b6c2e",
   "metadata": {},
   "source": [
    "The employment ratio within households is calculated. We count the number of individuals in the 'labor_force' column with a value of 1 (indicating employment) for each house, then divide this count by the household size ('hhsize') to determine the ratio of employed individuals within each house. The aim is to understand the proportion of employed individuals within houses."
   ]
  },
  {
   "cell_type": "code",
   "execution_count": 58,
   "id": "371d872707ff23a6",
   "metadata": {
    "ExecuteTime": {
     "end_time": "2024-01-09T20:36:47.255024600Z",
     "start_time": "2024-01-09T20:36:46.432655200Z"
    }
   },
   "outputs": [],
   "source": [
    "# Employment Ratio\n",
    "employment_rate = combined_df.groupby('hid')['labor_force'].transform(lambda x: (x == 1).sum()) / combined_df['hhsize']"
   ]
  },
  {
   "cell_type": "markdown",
   "id": "11d71d59",
   "metadata": {},
   "source": [
    "This code creates a house quality score by assigning points based on materials used for floors, walls, and roofs in houses, then summing those points. The purpose is to numerically assess and compare the overall quality of houses based on these construction material choices."
   ]
  },
  {
   "cell_type": "code",
   "execution_count": 59,
   "id": "f3bdcf10be2b0556",
   "metadata": {
    "ExecuteTime": {
     "end_time": "2024-01-09T20:36:47.302686100Z",
     "start_time": "2024-01-09T20:36:47.255024600Z"
    }
   },
   "outputs": [],
   "source": [
    "# House Quality\n",
    "\"\"\"This categorical features more likely to be ordinal. So, we can assign scores to each category. \"\"\"\n",
    "def score_floor(material):\n",
    "    scores = {1: 1, 2: 3, 3: 4, 4: 4, 5: 2, 6: 2}\n",
    "    return scores.get(material, 0)\n",
    "\"\"\"Floor Material (floor):\n",
    "        Earth (1): 1 point\n",
    "        Cement/Concrete (2): 3 points\n",
    "        Tile (3): 4 points\n",
    "        Stone (4): 4 points\n",
    "        Wood (5): 2 points\n",
    "        Other (6): 2 points\"\"\"\n",
    "\n",
    "def score_walls(material):\n",
    "    scores = {1: 1, 2: 2, 3: 4, 4: 5, 5: 3, 6: 4, 7: 3, 8: 2}\n",
    "    return scores.get(material, 0)\n",
    "\"\"\"Wall Material (walls):\n",
    "        Cardboard/Scrap (1): 1 point\n",
    "        Wood/Straw (2): 2 points\n",
    "        Bricks (3): 4 points\n",
    "        Concrete/Cement (4): 5 points\n",
    "        Adobe/Mud (5): 3 points\n",
    "        Stone (6): 4 points\n",
    "        Metal (7): 3 points\n",
    "        Other (8): 2 points\"\"\"\n",
    "\n",
    "def score_roof(material):\n",
    "    scores = {1: 5, 2: 4, 3: 3, 4: 5, 5: 4, 6: 2, 7: 1, 8: 1, 9: 2}\n",
    "    return scores.get(material, 0)\n",
    "\"\"\"Roof Material (roof):\n",
    "        Concrete/Cement (1): 5 points\n",
    "        Tile (2): 4 points\n",
    "        Asphalt/Laminate (3): 3 points\n",
    "        Slate (4): 5 points\n",
    "        Metal (5): 4 points\n",
    "        Wood (6): 2 points\n",
    "        Thatch (7): 1 point\n",
    "        Scrap (8): 1 point\n",
    "        Other (9): 2 points\"\"\"\n",
    "\n",
    "combined_df['floor_score'] = combined_df['floor'].apply(score_floor)\n",
    "combined_df['walls_score'] = combined_df['walls'].apply(score_walls)\n",
    "combined_df['roof_score'] = combined_df['roof'].apply(score_roof)\n",
    "\n",
    "house_quality_score = combined_df['floor_score'] + combined_df['walls_score'] + combined_df['roof_score']\n",
    "\n",
    "combined_df = combined_df.drop(columns=['floor', 'walls', 'roof'], errors='ignore')"
   ]
  },
  {
   "cell_type": "markdown",
   "id": "c8def398",
   "metadata": {},
   "source": [
    "This code calculates a House Modernity Score by assigning points based on the type of water source, toilet facility, access to electricity, and cooking fuel used in houses. It then sums these points to evaluate and compare the level of modernity within different houses based on these criteria. We aim to provide an overall numerical representation of household modernity."
   ]
  },
  {
   "cell_type": "code",
   "execution_count": 60,
   "id": "b77883c0de9813e0",
   "metadata": {
    "ExecuteTime": {
     "end_time": "2024-01-09T20:36:47.366700800Z",
     "start_time": "2024-01-09T20:36:47.302686100Z"
    }
   },
   "outputs": [],
   "source": [
    "# House Modernity Score\n",
    "\"\"\"This categorical features more likely to be ordinal. So, we can assign scores to each category. \"\"\"\n",
    "def score_water_source(source):\n",
    "    scores = {11: 7, 12: 6, 13: 4, 14: 2, 21: 2, 31: 3, 32: 2, 41: 3, 42: 2, 43: 3, 51: 1, 61: 1, 62: 0, 71: 0, 96: 1}\n",
    "    return scores.get(source, 0)\n",
    "\"\"\"Drinking Water Source (water):\n",
    "        Piped into dwelling (11): 7 points\n",
    "        Piped to yard/plot (12): 6 points\n",
    "        Piped to neighbor (13): 4 points\n",
    "        Public tap/standpipe (14): 2 points\n",
    "        Tube well or borehole (21): 2 points\n",
    "        Protected well (31): 3 points\n",
    "        Unprotected well (32): 2 point\n",
    "        Protected spring (41): 3 point\n",
    "        Unprotected spring (42): 2 point\n",
    "        Rainwater collection (43): 3 point\n",
    "        Cart with small tank/drum (51): 1 point\n",
    "        Tanker truck (61): 1 point\n",
    "        Surface water (62): 0 point\n",
    "        Bottled water (71): 0 point\n",
    "        Other sources (96): 1 point\"\"\"\n",
    "\n",
    "def score_piped_water(toilet):\n",
    "    scores = {0: 0, 1: 3, 2: 4, 3: 5}\n",
    "    return scores.get(toilet, 0)\n",
    "\"\"\"Water Supply (piped_water):\n",
    "    No piped water (0): 0 points\n",
    "    Piped into dwelling (1): 3 points \n",
    "    Piped outside the dwelling (2): 4 points \n",
    "    Public piped water (3): 5 points\"\"\"\n",
    "\n",
    "def score_toilet(toilet):\n",
    "    scores = {11: 7, 12: 6, 13: 4, 14: 3, 21: 3, 22: 2, 23: 1, 31: 0, 96: 1}\n",
    "    return scores.get(toilet, 0)\n",
    "\"\"\"Toilet Facility (toilet):\n",
    "        Flush to piped sewer system (11): 7 points\n",
    "        Flush to septic tank (12): 6 points\n",
    "        Flush to pit latrine (13): 4 points\n",
    "        Flush to somewhere else (14): 3 points\n",
    "        Ventilated improved pit latrine (VIP) (21): 3 points\n",
    "        Pit latrine with slab (22): 2 points\n",
    "        Pit latrine without slab/open pit (23): 1 points\n",
    "        No facility/bush/field (31): 0 points\n",
    "        Other types (96): 1 point\"\"\"\n",
    "\n",
    "def score_toilet_avability(toilet):\n",
    "    scores = {0: 0, 1: 7, 2: 3}\n",
    "    return scores.get(toilet, 0)\n",
    "\"\"\" Toilet Facility (flush_toilet):\n",
    "        No toilet (0): 0 points\n",
    "        Flush toilet (1): 7 points\n",
    "        Toilet/latrine with no flush (2): 3 points\"\"\"\n",
    "\n",
    "def score_electricity(electricity):\n",
    "    scores = {1: 5, 2: 0}\n",
    "    return scores.get(electricity, 0)\n",
    "\"\"\"Electricity (electricity):\n",
    "        Yes (1): 5 points\n",
    "        No (0): 0 points\"\"\"\n",
    "\n",
    "def score_cooking(cooking):\n",
    "    scores = {1: 5, 2: 4, 3: 3, 4: 2, 5: 1, 6: 1}\n",
    "    return scores.get(cooking, 0)\n",
    "\"\"\"Cooking Fuel (cook_fuel):\n",
    "        Electricity (1): 5 points\n",
    "        Gas (2): 4 points\n",
    "        Petroleum (3): 3 points\n",
    "        Wood (4): 2 points\n",
    "        Coal/charcoal (5): 1 point\n",
    "        Other (6): 1 point\"\"\"\n",
    "\n",
    "combined_df['water_score'] = combined_df['water'].apply(score_water_source)\n",
    "combined_df['piped_water_score'] = combined_df['piped_water'].apply(score_piped_water)\n",
    "combined_df['toilet_score'] = combined_df['toilet'].apply(score_toilet)\n",
    "combined_df['flush_toilet_score'] = combined_df['flush_toilet'].apply(score_toilet_avability)\n",
    "combined_df['electricity_score'] = combined_df['electricity'].apply(score_electricity)\n",
    "combined_df['cooking_score'] = combined_df['cook_fuel'].apply(score_cooking)\n",
    "\n",
    "house_modernity_score = combined_df['water_score'] + combined_df['toilet_score'] + combined_df['electricity_score'] + combined_df['cooking_score'] + combined_df['piped_water_score'] + combined_df['flush_toilet_score']\n",
    "\n",
    "combined_df = combined_df.drop(columns=['water', 'piped_water', 'toilet', 'flush_toilet', 'electricity', 'cook_fuel'], errors='ignore')\n",
    "combined_df = combined_df.drop(columns=['water_score', 'piped_water_score', 'toilet_score', 'flush_toilet_score', 'electricity_score', 'cooking_score'], errors='ignore')"
   ]
  },
  {
   "cell_type": "markdown",
   "id": "950d419f",
   "metadata": {},
   "source": [
    "The modernity level of households is determined by assigning scores to owned items like phones, cars, bicycles, electronics, and banking access. The purpose is to create a numeric representation that reflects the modernity of a household's lifestyle based on possession of these items."
   ]
  },
  {
   "cell_type": "code",
   "execution_count": 61,
   "id": "e3fd6c890abe5dcd",
   "metadata": {
    "ExecuteTime": {
     "end_time": "2024-01-09T20:36:47.381753100Z",
     "start_time": "2024-01-09T20:36:47.366700800Z"
    }
   },
   "outputs": [
    {
     "data": {
      "text/plain": "'Scores are based on the items owned'"
     },
     "execution_count": 61,
     "metadata": {},
     "output_type": "execute_result"
    }
   ],
   "source": [
    "# Life Style Modernity Score\n",
    "lifestyle_score = ( combined_df['phone'] * 1 +\n",
    "                    combined_df['cell'] * 2 +\n",
    "                    combined_df['car'] * 5 +\n",
    "                    combined_df['bicycle'] * 1 +\n",
    "                    combined_df['motorcycle'] * 3 +\n",
    "                    combined_df['refrigerator'] * 3 +\n",
    "                    combined_df['tv'] * 2 +\n",
    "                    combined_df['radio'] * 1 +\n",
    "                    combined_df['bank'] * 3) \n",
    "\"\"\"Scores are based on the items owned\"\"\""
   ]
  },
  {
   "cell_type": "markdown",
   "id": "65d26027",
   "metadata": {},
   "source": [
    "The Education Level computation derives a numeric index by evaluating a household member's school attendance, educational attainment, and literacy. This index aims to provide a measure reflecting the education level of individuals within the household based on these factors."
   ]
  },
  {
   "cell_type": "code",
   "execution_count": 62,
   "id": "e1d4f9f5a7e2471f",
   "metadata": {
    "ExecuteTime": {
     "end_time": "2024-01-09T20:36:47.585739300Z",
     "start_time": "2024-01-09T20:36:47.381753100Z"
    }
   },
   "outputs": [],
   "source": [
    "# Education Level\n",
    "\"\"\"This categorical features more likely to be ordinal. So, we can assign scores to each category. \"\"\"\n",
    "def calculate_education_index(row):\n",
    "    school_attend_score = {1: 2, 2: 0, 3: 1, 4: 0}.get(row['school_attend'], 0)\n",
    "    educ_attain_score = {0: 0, 1: 1, 2: 2, 3: 3, 4: 4}.get(row['educ_attain'], 0)\n",
    "    literacy_score = {1: 5, 2: 0}.get(row['literacy'], 0)\n",
    "    \n",
    "    return school_attend_score + educ_attain_score + literacy_score\n",
    "\n",
    "education_lvl = combined_df.apply(calculate_education_index, axis=1)\n",
    "\n",
    "combined_df = combined_df.drop(columns=['school_attend', 'educ_attain'], errors='ignore')"
   ]
  },
  {
   "cell_type": "markdown",
   "id": "092878ac",
   "metadata": {},
   "source": [
    "Below, we compute the Child Mortality Rate by subtracting the number of surviving children from the total number of children born in households and then normalizing it to avoid division by zero. This rate helps assess the proportion of children who haven't survived, offering insights into child health and mortality."
   ]
  },
  {
   "cell_type": "code",
   "execution_count": 63,
   "id": "24752d0ff6222864",
   "metadata": {
    "ExecuteTime": {
     "end_time": "2024-01-09T20:36:47.601794800Z",
     "start_time": "2024-01-09T20:36:47.586742500Z"
    }
   },
   "outputs": [],
   "source": [
    "# Calculate Child Mortality Rate\n",
    "CMR = (combined_df['children_born'] - combined_df['children_surv']) / combined_df['children_born'].replace(0, 1)"
   ]
  },
  {
   "cell_type": "markdown",
   "id": "290ea92d",
   "metadata": {},
   "source": [
    "This feature is a Stability Index based on migration status and adjustments for births and deaths in the last year. It's designed to quantify the stability of households in reference to their migration patterns."
   ]
  },
  {
   "cell_type": "code",
   "execution_count": 64,
   "id": "48b8963d7fc391d8",
   "metadata": {
    "ExecuteTime": {
     "end_time": "2024-01-09T20:36:47.786510500Z",
     "start_time": "2024-01-09T20:36:47.601794800Z"
    }
   },
   "outputs": [],
   "source": [
    "# Stability According to last year\n",
    "def calculate_stability_index(row):\n",
    "    \n",
    "    migration_scores = {0: 0, 10: 1.5, 11: 1, 12: 2, 20: 3, 30: 4, 99: 2}\n",
    "    migration_score = migration_scores.get(row['migrate_recent'], 0)\n",
    "\n",
    "    births_deaths_adjustment = - (row['births_12m'] + row['deaths_12m'])\n",
    "\n",
    "    return max(migration_score + births_deaths_adjustment, 0)\n",
    "\n",
    "stability_index = combined_df.apply(calculate_stability_index, axis=1)"
   ]
  },
  {
   "cell_type": "markdown",
   "id": "2d574d6e",
   "metadata": {},
   "source": [
    "We determine the Polygamy Status by counting the number of spouses per house and categorizing households as polygamous if they have more than one spouse present. The purpose is to identify households practicing polygamy."
   ]
  },
  {
   "cell_type": "code",
   "execution_count": 65,
   "id": "f1e4b6c914eafe3c",
   "metadata": {
    "ExecuteTime": {
     "end_time": "2024-01-09T20:36:47.802566400Z",
     "start_time": "2024-01-09T20:36:47.786510500Z"
    }
   },
   "outputs": [],
   "source": [
    "# Polygamy Status\n",
    "spouse_count = combined_df[combined_df['relation'] == 2].groupby('hid').size().reset_index(name='spouse_count')\n",
    "\n",
    "combined_df = combined_df.merge(spouse_count, on='hid', how='left')\n",
    "\n",
    "combined_df['spouse_count'].fillna(0, inplace=True)\n",
    "\n",
    "polygamous = combined_df['spouse_count'] > 1"
   ]
  },
  {
   "cell_type": "markdown",
   "id": "2b84d4ba",
   "metadata": {},
   "source": [
    "Average Age per household is calculated by finding the mean age of individuals within each household. This provides a single representative age value for each household."
   ]
  },
  {
   "cell_type": "code",
   "execution_count": 66,
   "id": "bb725342e4e342b3",
   "metadata": {
    "ExecuteTime": {
     "end_time": "2024-01-09T20:36:47.833500100Z",
     "start_time": "2024-01-09T20:36:47.802566400Z"
    }
   },
   "outputs": [],
   "source": [
    "# Average Age\n",
    "avg_age_per_household = combined_df.groupby('hid')['age'].mean().reset_index(name='average_age')\n",
    "\n",
    "combined_df = combined_df.merge(avg_age_per_household, on='hid', how='left')"
   ]
  },
  {
   "cell_type": "markdown",
   "id": "e0608947",
   "metadata": {},
   "source": [
    "This code computes the Disability Member Count by summing the occurrences of disabilities among individuals within households. "
   ]
  },
  {
   "cell_type": "code",
   "execution_count": 67,
   "id": "a24c1283676a5d0b",
   "metadata": {
    "ExecuteTime": {
     "end_time": "2024-01-09T20:36:47.834503500Z",
     "start_time": "2024-01-09T20:36:47.818447900Z"
    }
   },
   "outputs": [],
   "source": [
    "# Disabilty Member Count\n",
    "disability_columns = ['blind', 'deaf', 'mental']\n",
    "disability_member_count = combined_df[disability_columns].sum(axis=1)"
   ]
  },
  {
   "cell_type": "markdown",
   "id": "e81e2ac8",
   "metadata": {},
   "source": [
    "The Women's Empowerment Score is computed to see the level of empowerment within households. It assesses empowerment by considering the presence of female heads of households and the count of employed females, expressing this as a ratio relative to the total number of female household members. "
   ]
  },
  {
   "cell_type": "code",
   "execution_count": 68,
   "id": "5d9c1186f559ac4e",
   "metadata": {
    "ExecuteTime": {
     "end_time": "2024-01-09T20:36:47.867619Z",
     "start_time": "2024-01-09T20:36:47.833500100Z"
    }
   },
   "outputs": [],
   "source": [
    "# Women's Empowerment Score\n",
    "combined_df['is_female_head'] = ((combined_df['relation'] == 1) & (combined_df['sex'] == 2)).astype(int)\n",
    "\n",
    "combined_df['employed_females'] = ((combined_df['sex'] == 2) & (combined_df['act_status'] == 1)).astype(int)\n",
    "employed_females_count = combined_df.groupby('hid')['employed_females'].sum().reset_index(name='employed_females_count')\n",
    "\n",
    "female_count = combined_df[combined_df['sex'] == 2].groupby('hid').size().reset_index(name='female_count')\n",
    "\n",
    "combined_df = combined_df.merge(employed_females_count, on='hid', how='left')\n",
    "combined_df = combined_df.merge(female_count, on='hid', how='left')\n",
    "\n",
    "combined_df['employed_females_count'].fillna(0, inplace=True)\n",
    "combined_df['female_count'].fillna(0, inplace=True)\n",
    "\n",
    "womens_empowerment_score = (combined_df['is_female_head'] + combined_df['employed_females_count']) / combined_df['female_count'].replace(0, 1)"
   ]
  },
  {
   "cell_type": "markdown",
   "id": "56fa6f28",
   "metadata": {},
   "source": [
    "This code calculates the Child Development Index by computing the Body Mass Index for children. It involves converting the height from centimeters to meters and then computing BMI using the weight and adjusted height. This is an indicator of child health and development."
   ]
  },
  {
   "cell_type": "code",
   "execution_count": 69,
   "id": "8101745e9101b372",
   "metadata": {
    "ExecuteTime": {
     "end_time": "2024-01-09T20:36:47.880480600Z",
     "start_time": "2024-01-09T20:36:47.865611600Z"
    }
   },
   "outputs": [],
   "source": [
    "# Child Development Index\n",
    "combined_df['ch_height_m'] = combined_df['ch_height'] / 100  # Convert cm to meters\n",
    "\n",
    "child_bmi = combined_df['ch_weight'] / (combined_df['ch_height_m'] ** 2)"
   ]
  },
  {
   "cell_type": "code",
   "execution_count": 70,
   "id": "fda2c30bb814c4e7",
   "metadata": {
    "ExecuteTime": {
     "end_time": "2024-01-09T20:36:47.903558500Z",
     "start_time": "2024-01-09T20:36:47.881483600Z"
    }
   },
   "outputs": [],
   "source": [
    "# Aggregating the data\n",
    "aggregated_data = pd.DataFrame({\n",
    "    'housing_density': housing_density,\n",
    "    'dependency_ratio': dependency_ratio,\n",
    "    'employment_rate': employment_rate,\n",
    "    'house_quality_score': house_quality_score,\n",
    "    'house_modernity_score': house_modernity_score,\n",
    "    'lifestyle_score': lifestyle_score,\n",
    "    'education_lvl': education_lvl,\n",
    "    'child_mortality_rate': CMR,\n",
    "    'stability_index': stability_index,\n",
    "    'polygamous': polygamous,\n",
    "    'disability_member_count': disability_member_count,\n",
    "    'womens_empowerment_score': womens_empowerment_score,\n",
    "    'child_bmi': child_bmi\n",
    "})"
   ]
  },
  {
   "cell_type": "code",
   "execution_count": 71,
   "id": "75b1fbe2a4df0406",
   "metadata": {
    "ExecuteTime": {
     "end_time": "2024-01-09T20:36:47.912590100Z",
     "start_time": "2024-01-09T20:36:47.896533900Z"
    }
   },
   "outputs": [],
   "source": [
    "combined_df = pd.concat([combined_df, aggregated_data], axis=1)"
   ]
  },
  {
   "cell_type": "markdown",
   "id": "f906830c",
   "metadata": {},
   "source": [
    "The code calculates the Living Conditions Level Score by combining various factors related to employment rate, house quality, modernity, and lifestyle. It divides this combination by a ratio involving dependency, housing density, aiming to create a score reflecting the overall living conditions within households."
   ]
  },
  {
   "cell_type": "code",
   "execution_count": 72,
   "id": "f3e871ea6eefdc5",
   "metadata": {
    "ExecuteTime": {
     "end_time": "2024-01-09T20:36:47.940497Z",
     "start_time": "2024-01-09T20:36:47.911586100Z"
    }
   },
   "outputs": [],
   "source": [
    "# Living Conditions Level\n",
    "living_conditions_level_score = (((combined_df['employment_rate']*10 +  \n",
    "                        combined_df['house_quality_score'] +  \n",
    "                        combined_df['house_modernity_score'] +  \n",
    "                        combined_df['lifestyle_score'])/ (combined_df['dependency_ratio'] + combined_df['housing_density'])))\n"
   ]
  },
  {
   "cell_type": "markdown",
   "id": "561a2417",
   "metadata": {},
   "source": [
    "This code categorizes child health based on BMI percentile data according to the child's age and sex. It uses specific BMI percentile values to classify the child's health status into categories like Very Underweight, Underweight, Healthy Weight, Overweight, or Obese."
   ]
  },
  {
   "cell_type": "code",
   "execution_count": 73,
   "id": "4e1a0d0649b68d99",
   "metadata": {
    "ExecuteTime": {
     "end_time": "2024-01-09T20:36:48.163262Z",
     "start_time": "2024-01-09T20:36:47.926639Z"
    }
   },
   "outputs": [],
   "source": [
    "# Child Health Index\n",
    "percentile_data = {\n",
    "    ('Girl', 1): {'5th': 12, '15th': 13.2, '85th': 16, '95th': 17.5},\n",
    "    ('Girl', 2): {'5th': 13, '15th': 14.2, '85th': 17.2, '95th': 19},\n",
    "    ('Girl', 3): {'5th': 13.6, '15th': 14.8, '85th': 17.8, '95th': 19.6},\n",
    "    ('Girl', 4): {'5th': 13.8, '15th': 15.2, '85th': 18.2, '95th': 20},\n",
    "    ('Girl', 5): {'5th': 14, '15th': 15.4, '85th': 18.4, '95th': 20.2},\n",
    "    ('Girl', 6): {'5th': 14.2, '15th': 15.6, '85th': 18.6, '95th': 20.3},\n",
    "    ('Girl', 7): {'5th': 14.2, '15th': 15.6, '85th': 18.6, '95th': 20.3},\n",
    "    ('Girl', 8): {'5th': 14.1, '15th': 15.4, '85th': 18.5, '95th': 20.2},\n",
    "    ('Girl', 9): {'5th': 14, '15th': 15.2, '85th': 18.4, '95th': 20.1},\n",
    "    ('Girl', 10): {'5th': 14, '15th': 15.2, '85th': 18.2, '95th': 19.9},\n",
    "    ('Girl', 11): {'5th': 13.8, '15th': 15.1, '85th': 18, '95th': 19.8},\n",
    "    ('Girl', 12): {'5th': 13.8, '15th': 15, '85th': 17.8, '95th': 19.6},\n",
    "    ('Girl', 13): {'5th': 13.7, '15th': 14.9, '85th': 17.7, '95th': 19.4},\n",
    "    ('Girl', 14): {'5th': 13.6, '15th': 14.8, '85th': 17.6, '95th': 19.3},\n",
    "    ('Girl', 15): {'5th': 13.5, '15th': 14.7, '85th': 17.5, '95th': 19.2},\n",
    "    ('Girl', 16): {'5th': 13.5, '15th': 14.6, '85th': 17.4, '95th': 19.1},\n",
    "    ('Girl', 17): {'5th': 13.4, '15th': 14.5, '85th': 17.3, '95th': 19},\n",
    "    ('Girl', 18): {'5th': 13.4, '15th': 14.4, '85th': 17.2, '95th': 18.9},\n",
    "    ('Girl', 19): {'5th': 13.3, '15th': 14.4, '85th': 17.1, '95th': 18.8},\n",
    "    ('Girl', 20): {'5th': 13.2, '15th': 14.3, '85th': 17, '95th': 18.7},\n",
    "    ('Girl', 21): {'5th': 13.2, '15th': 14.25, '85th': 17, '95th': 18.6},\n",
    "    ('Girl', 22): {'5th': 13.15, '15th': 14.2, '85th': 16.9, '95th': 18.55},\n",
    "    ('Girl', 23): {'5th': 13.1, '15th': 14.2, '85th': 16.8, '95th': 18.5},\n",
    "    ('Girl', 24): {'5th': 13.1, '15th': 14.2, '85th': 16.8, '95th': 18.4},\n",
    "    ('Girl', 25): {'5th': 13, '15th': 14.1, '85th': 16.8, '95th': 18.4},\n",
    "    ('Girl', 26): {'5th': 13, '15th': 14, '85th': 16.9, '95th': 18.5},\n",
    "    ('Girl', 27): {'5th': 13, '15th': 14, '85th': 17, '95th': 18.5},\n",
    "    ('Girl', 28): {'5th': 13, '15th': 14, '85th': 17, '95th': 18.5},\n",
    "    ('Girl', 29): {'5th': 13, '15th': 14, '85th': 17, '95th': 18.5},\n",
    "    ('Girl', 30): {'5th': 13, '15th': 14, '85th': 17, '95th': 18.5},\n",
    "    ('Girl', 31): {'5th': 13, '15th': 14, '85th': 17, '95th': 18.5},\n",
    "    ('Girl', 32): {'5th': 13, '15th': 14, '85th': 17, '95th': 18.5},\n",
    "    ('Girl', 33): {'5th': 13, '15th': 14, '85th': 17, '95th': 18.5},\n",
    "    ('Girl', 34): {'5th': 13, '15th': 14, '85th': 17, '95th': 18.5},\n",
    "    ('Girl', 35): {'5th': 13, '15th': 14, '85th': 17, '95th': 18.5},\n",
    "    ('Girl', 36): {'5th': 13, '15th': 14, '85th': 17, '95th': 18.5},\n",
    "    ('Girl', 37): {'5th': 13, '15th': 14, '85th': 17, '95th': 18.5},\n",
    "    ('Girl', 38): {'5th': 13, '15th': 14, '85th': 17, '95th': 18.5},\n",
    "    ('Girl', 39): {'5th': 13, '15th': 14, '85th': 17, '95th': 18.5},\n",
    "    ('Girl', 40): {'5th': 13, '15th': 14, '85th': 17, '95th': 18.5},\n",
    "    ('Girl', 41): {'5th': 13, '15th': 14, '85th': 17, '95th': 18.5},\n",
    "    ('Girl', 42): {'5th': 13, '15th': 14, '85th': 17, '95th': 18.5},\n",
    "    ('Girl', 43): {'5th': 13, '15th': 14, '85th': 17, '95th': 18.5},\n",
    "    ('Girl', 44): {'5th': 13, '15th': 14, '85th': 17, '95th': 18.5},\n",
    "    ('Girl', 45): {'5th': 13, '15th': 14, '85th': 17, '95th': 18.5},\n",
    "    ('Girl', 46): {'5th': 13, '15th': 14, '85th': 17, '95th': 18.5},\n",
    "    ('Girl', 47): {'5th': 13, '15th': 14, '85th': 17, '95th': 18.5},\n",
    "    ('Girl', 48): {'5th': 13, '15th': 14, '85th': 17, '95th': 18.5},\n",
    "    ('Girl', 49): {'5th': 13, '15th': 14, '85th': 17, '95th': 18.5},\n",
    "    ('Girl', 50): {'5th': 13, '15th': 14, '85th': 17, '95th': 18.5},\n",
    "    ('Girl', 51): {'5th': 13, '15th': 14, '85th': 17, '95th': 18.5},\n",
    "    ('Girl', 52): {'5th': 13, '15th': 14, '85th': 17, '95th': 18.5},\n",
    "    ('Girl', 53): {'5th': 13, '15th': 14, '85th': 17, '95th': 18.5},\n",
    "    ('Girl', 54): {'5th': 13, '15th': 14, '85th': 17, '95th': 18.5},\n",
    "    ('Girl', 55): {'5th': 13, '15th': 14, '85th': 17, '95th': 18.5},\n",
    "    ('Girl', 56): {'5th': 13, '15th': 14, '85th': 17, '95th': 18.5},\n",
    "    ('Girl', 57): {'5th': 13, '15th': 14, '85th': 17, '95th': 18.5},\n",
    "    ('Girl', 58): {'5th': 13, '15th': 14, '85th': 17, '95th': 18.5},\n",
    "    ('Girl', 59): {'5th': 12.9, '15th': 14, '85th': 17, '95th': 18.5},\n",
    "    ('Girl', 60): {'5th': 12.8, '15th': 14, '85th': 17, '95th': 18.6},\n",
    "    \n",
    "    ('Boy', 1): {'5th': 12.4, '15th': 13.6, '85th': 16.4, '95th': 17.8},\n",
    "    ('Boy', 2): {'5th': 13.8, '15th': 15, '85th': 17.8, '95th': 19.4},\n",
    "    ('Boy', 3): {'5th': 14.2, '15th': 15.5, '85th': 18.2, '95th': 20},\n",
    "    ('Boy', 4): {'5th': 14.4, '15th': 15.8, '85th': 18.6, '95th': 20.3},\n",
    "    ('Boy', 5): {'5th': 14.6, '15th': 15.95, '85th': 18.8, '95th': 20.4},\n",
    "    ('Boy', 6): {'5th': 14.8, '15th': 16, '85th': 18.8, '95th': 20.45},\n",
    "    ('Boy', 7): {'5th': 14.8, '15th': 16, '85th': 18.8, '95th': 20.45},\n",
    "    ('Boy', 8): {'5th': 14.7, '15th': 15.9, '85th': 18.8, '95th': 20.4},\n",
    "    ('Boy', 9): {'5th': 14.6, '15th': 15.8, '85th': 18.6, '95th': 20.3},\n",
    "    ('Boy', 10): {'5th': 14.6, '15th': 15.8, '85th': 18.5, '95th': 20.2},\n",
    "    ('Boy', 11): {'5th': 14.5, '15th': 15.6, '85th': 18.4, '95th': 20},\n",
    "    ('Boy', 12): {'5th': 14.4, '15th': 15.5, '85th': 18.2, '95th': 19.8},\n",
    "    ('Boy', 13): {'5th': 14.3, '15th': 15.4, '85th': 18.1, '95th': 19.75},\n",
    "    ('Boy', 14): {'5th': 14.2, '15th': 15.3, '85th': 18, '95th': 19.65},\n",
    "    ('Boy', 15): {'5th': 14.1, '15th': 15.2, '85th': 17.8, '95th': 19.4},\n",
    "    ('Boy', 16): {'5th': 14, '15th': 15.1, '85th': 17.7, '95th': 19.3},\n",
    "    ('Boy', 17): {'5th': 14, '15th': 15, '85th': 17.6, '95th': 19.2},\n",
    "    ('Boy', 18): {'5th': 13.85, '15th': 14.95, '85th': 17.5, '95th': 19},\n",
    "    ('Boy', 19): {'5th': 13.8, '15th': 14.85, '85th': 17.4, '95th': 18.9},\n",
    "    ('Boy', 20): {'5th': 13.75, '15th': 14.8, '85th': 17.3, '95th': 18.8},\n",
    "    ('Boy', 21): {'5th': 13.7, '15th': 14.75, '85th': 17.2, '95th': 18.8},\n",
    "    ('Boy', 22): {'5th': 13.6, '15th': 14.65, '85th': 17.2, '95th': 18.7},\n",
    "    ('Boy', 23): {'5th': 13.6, '15th': 14.6, '85th': 17.1, '95th': 18.6},\n",
    "    ('Boy', 24): {'5th': 13.6, '15th': 14.6, '85th': 17, '95th': 18.5},\n",
    "    ('Boy', 25): {'5th': 13.4, '15th': 14.5, '85th': 16.95, '95th': 18.45},\n",
    "    ('Boy', 26): {'5th': 13.4, '15th': 14.5, '85th': 16.95, '95th': 18.45},\n",
    "    ('Boy', 27): {'5th': 13.4, '15th': 14.5, '85th': 16.95, '95th': 18.45},\n",
    "    ('Boy', 28): {'5th': 13.4, '15th': 14.5, '85th': 16.95, '95th': 18.45},\n",
    "    ('Boy', 29): {'5th': 13.4, '15th': 14.5, '85th': 16.95, '95th': 18.45},\n",
    "    ('Boy', 30): {'5th': 13.4, '15th': 14.5, '85th': 16.95, '95th': 18.45},\n",
    "    ('Boy', 31): {'5th': 13.2, '15th': 14.4, '85th': 16.9, '95th': 18.4},\n",
    "    ('Boy', 32): {'5th': 13.2, '15th': 14.4, '85th': 16.9, '95th': 18.4},\n",
    "    ('Boy', 33): {'5th': 13.2, '15th': 14.4, '85th': 16.9, '95th': 18.4},\n",
    "    ('Boy', 34): {'5th': 13.2, '15th': 14.4, '85th': 16.9, '95th': 18.4},\n",
    "    ('Boy', 35): {'5th': 13.2, '15th': 14.4, '85th': 16.9, '95th': 18.4},\n",
    "    ('Boy', 36): {'5th': 13.2, '15th': 14.4, '85th': 16.9, '95th': 18.4},\n",
    "    ('Boy', 37): {'5th': 13.1, '15th': 14.3, '85th': 16.8, '95th': 18.35},\n",
    "    ('Boy', 38): {'5th': 13.1, '15th': 14.3, '85th': 16.8, '95th': 18.35},\n",
    "    ('Boy', 39): {'5th': 13.1, '15th': 14.3, '85th': 16.8, '95th': 18.35},\n",
    "    ('Boy', 40): {'5th': 13.1, '15th': 14.3, '85th': 16.8, '95th': 18.35},\n",
    "    ('Boy', 41): {'5th': 13.1, '15th': 14.3, '85th': 16.8, '95th': 18.35},\n",
    "    ('Boy', 42): {'5th': 13.1, '15th': 14.3, '85th': 16.8, '95th': 18.35},\n",
    "    ('Boy', 43): {'5th': 13, '15th': 14.2, '85th': 16.75, '95th': 18.3},\n",
    "    ('Boy', 44): {'5th': 13, '15th': 14.2, '85th': 16.75, '95th': 18.3},\n",
    "    ('Boy', 45): {'5th': 13, '15th': 14.2, '85th': 16.75, '95th': 18.3},\n",
    "    ('Boy', 46): {'5th': 13, '15th': 14.2, '85th': 16.75, '95th': 18.3},\n",
    "    ('Boy', 47): {'5th': 13, '15th': 14.2, '85th': 16.75, '95th': 18.3},\n",
    "    ('Boy', 48): {'5th': 13, '15th': 14.2, '85th': 16.75, '95th': 18.3},\n",
    "    ('Boy', 49): {'5th': 12.8, '15th': 14.1, '85th': 16.7, '95th': 18.3},\n",
    "    ('Boy', 50): {'5th': 12.8, '15th': 14.1, '85th': 16.7, '95th': 18.3},\n",
    "    ('Boy', 51): {'5th': 12.8, '15th': 14.1, '85th': 16.7, '95th': 18.3},\n",
    "    ('Boy', 52): {'5th': 12.8, '15th': 14.1, '85th': 16.7, '95th': 18.3},\n",
    "    ('Boy', 53): {'5th': 12.8, '15th': 14.1, '85th': 16.7, '95th': 18.3},\n",
    "    ('Boy', 54): {'5th': 12.8, '15th': 14.1, '85th': 16.7, '95th': 18.3},\n",
    "    ('Boy', 55): {'5th': 12.8, '15th': 14, '85th': 16.6, '95th': 18.25},\n",
    "    ('Boy', 56): {'5th': 12.8, '15th': 14, '85th': 16.6, '95th': 18.25},\n",
    "    ('Boy', 57): {'5th': 12.8, '15th': 14, '85th': 16.6, '95th': 18.25},\n",
    "    ('Boy', 58): {'5th': 12.8, '15th': 14, '85th': 16.6, '95th': 18.25},\n",
    "    ('Boy', 59): {'5th': 12.8, '15th': 14, '85th': 16.6, '95th': 18.25},\n",
    "    ('Boy', 60): {'5th': 12.8, '15th': 14, '85th': 16.6, '95th': 18.25},\n",
    "}\n",
    "\n",
    "def categorize_health(bmi, age_months, sex, percentile_data):\n",
    "\n",
    "    sex_str = 'Boy' if sex == 1 else 'Girl'\n",
    "    \n",
    "    if pd.isna(age_months) or age_months not in range(1, 61):\n",
    "        return 'Data Not Available'\n",
    "    \n",
    "    percentiles = percentile_data[(sex_str, age_months)]\n",
    "\n",
    "    if bmi < percentiles['5th']:\n",
    "        return 'Very Underweight'\n",
    "    elif bmi < percentiles['15th']:\n",
    "        return 'Underweight'\n",
    "    elif bmi < percentiles['85th']:\n",
    "        return 'Healthy Weight'\n",
    "    elif bmi < percentiles['95th']:\n",
    "        return 'Overweight'\n",
    "    else:\n",
    "        return 'Obese'\n",
    "\n",
    "health_category = combined_df.apply(lambda row: categorize_health(row['child_bmi'], row['age_month'], row['sex'], percentile_data), axis=1)\n"
   ]
  },
  {
   "cell_type": "code",
   "execution_count": 74,
   "id": "70e9ac9e994bfc9c",
   "metadata": {
    "ExecuteTime": {
     "end_time": "2024-01-09T20:36:48.179317600Z",
     "start_time": "2024-01-09T20:36:48.164265600Z"
    }
   },
   "outputs": [],
   "source": [
    "# Aggregating the data\n",
    "aggregated_data = pd.DataFrame({\n",
    "    'living_conditions_level_score': living_conditions_level_score,\n",
    "    'health_category': health_category\n",
    "})"
   ]
  },
  {
   "cell_type": "code",
   "execution_count": 75,
   "id": "29d1bb6b29dd25ae",
   "metadata": {
    "ExecuteTime": {
     "end_time": "2024-01-09T20:36:48.199387700Z",
     "start_time": "2024-01-09T20:36:48.180321900Z"
    }
   },
   "outputs": [],
   "source": [
    "combined_df = pd.concat([combined_df, aggregated_data], axis=1)"
   ]
  },
  {
   "cell_type": "code",
   "execution_count": 76,
   "id": "c42c424232dba333",
   "metadata": {
    "ExecuteTime": {
     "end_time": "2024-01-09T20:36:48.218954200Z",
     "start_time": "2024-01-09T20:36:48.196377Z"
    }
   },
   "outputs": [
    {
     "data": {
      "text/plain": "           hid  geo1  geo2     ea  urbrur  hhsize  statocc  rooms  bedrooms  \\\n0  00a191396a2     1    11  11066       2       1        1      1         1   \n1  0111c7fa67c     1    11  11066       2       1        2      1         0   \n2  01410d9c60d     1    11  11087       2       2        1      4         1   \n3  01410d9c60d     1    11  11087       2       2        1      4         1   \n4  015ff82b55c     1    11  11094       2       2        1      1         1   \n5  015ff82b55c     1    11  11094       2       2        1      1         1   \n6  01c39d3df0d     1    11  11094       2       1        2      3         2   \n7  027fe2e901f     1    11  11003       2       2        1      3         2   \n8  027fe2e901f     1    11  11003       2       2        1      3         2   \n9  02afa0073ff     1    11  11024       2       3        2      4         2   \n\n   phone  ...  lifestyle_score  education_lvl  child_mortality_rate  \\\n0      0  ...                5             10             -0.357925   \n1      0  ...                5              6              0.000000   \n2      0  ...               11             10             -0.357925   \n3      0  ...               11              6             -0.357925   \n4      0  ...               10              6             -0.357925   \n5      0  ...               10              6              0.000000   \n6      1  ...               16             10             -0.357925   \n7      1  ...                7              6              0.076923   \n8      1  ...                7              6             -0.357925   \n9      0  ...               13             11             -0.357925   \n\n   stability_index  polygamous  disability_member_count  \\\n0         0.000000       False                      0.0   \n1         3.000000       False                      0.0   \n2         0.952032       False                      0.0   \n3         0.952032       False                      0.0   \n4         1.952032       False                      0.0   \n5         4.000000       False                      0.0   \n6         2.952032       False                      0.0   \n7         0.000000       False                      0.0   \n8         1.952032       False                      1.0   \n9         2.952032       False                      0.0   \n\n   womens_empowerment_score  child_bmi  living_conditions_level_score  \\\n0                       0.0  16.065126                      84.000000   \n1                       1.0  16.065126                      39.000000   \n2                       0.0  16.065126                     155.000000   \n3                       0.0  16.065126                     155.000000   \n4                       1.0  16.065126                      56.000000   \n5                       1.0  16.065126                      56.000000   \n6                       0.0  16.065126                     290.000000   \n7                       1.0  16.065126                      21.666667   \n8                       0.0  16.065126                      21.666667   \n9                       0.5  16.065126                      64.666667   \n\n      health_category  \n0  Data Not Available  \n1  Data Not Available  \n2  Data Not Available  \n3  Data Not Available  \n4  Data Not Available  \n5  Data Not Available  \n6  Data Not Available  \n7  Data Not Available  \n8  Data Not Available  \n9  Data Not Available  \n\n[10 rows x 91 columns]",
      "text/html": "<div>\n<style scoped>\n    .dataframe tbody tr th:only-of-type {\n        vertical-align: middle;\n    }\n\n    .dataframe tbody tr th {\n        vertical-align: top;\n    }\n\n    .dataframe thead th {\n        text-align: right;\n    }\n</style>\n<table border=\"1\" class=\"dataframe\">\n  <thead>\n    <tr style=\"text-align: right;\">\n      <th></th>\n      <th>hid</th>\n      <th>geo1</th>\n      <th>geo2</th>\n      <th>ea</th>\n      <th>urbrur</th>\n      <th>hhsize</th>\n      <th>statocc</th>\n      <th>rooms</th>\n      <th>bedrooms</th>\n      <th>phone</th>\n      <th>...</th>\n      <th>lifestyle_score</th>\n      <th>education_lvl</th>\n      <th>child_mortality_rate</th>\n      <th>stability_index</th>\n      <th>polygamous</th>\n      <th>disability_member_count</th>\n      <th>womens_empowerment_score</th>\n      <th>child_bmi</th>\n      <th>living_conditions_level_score</th>\n      <th>health_category</th>\n    </tr>\n  </thead>\n  <tbody>\n    <tr>\n      <th>0</th>\n      <td>00a191396a2</td>\n      <td>1</td>\n      <td>11</td>\n      <td>11066</td>\n      <td>2</td>\n      <td>1</td>\n      <td>1</td>\n      <td>1</td>\n      <td>1</td>\n      <td>0</td>\n      <td>...</td>\n      <td>5</td>\n      <td>10</td>\n      <td>-0.357925</td>\n      <td>0.000000</td>\n      <td>False</td>\n      <td>0.0</td>\n      <td>0.0</td>\n      <td>16.065126</td>\n      <td>84.000000</td>\n      <td>Data Not Available</td>\n    </tr>\n    <tr>\n      <th>1</th>\n      <td>0111c7fa67c</td>\n      <td>1</td>\n      <td>11</td>\n      <td>11066</td>\n      <td>2</td>\n      <td>1</td>\n      <td>2</td>\n      <td>1</td>\n      <td>0</td>\n      <td>0</td>\n      <td>...</td>\n      <td>5</td>\n      <td>6</td>\n      <td>0.000000</td>\n      <td>3.000000</td>\n      <td>False</td>\n      <td>0.0</td>\n      <td>1.0</td>\n      <td>16.065126</td>\n      <td>39.000000</td>\n      <td>Data Not Available</td>\n    </tr>\n    <tr>\n      <th>2</th>\n      <td>01410d9c60d</td>\n      <td>1</td>\n      <td>11</td>\n      <td>11087</td>\n      <td>2</td>\n      <td>2</td>\n      <td>1</td>\n      <td>4</td>\n      <td>1</td>\n      <td>0</td>\n      <td>...</td>\n      <td>11</td>\n      <td>10</td>\n      <td>-0.357925</td>\n      <td>0.952032</td>\n      <td>False</td>\n      <td>0.0</td>\n      <td>0.0</td>\n      <td>16.065126</td>\n      <td>155.000000</td>\n      <td>Data Not Available</td>\n    </tr>\n    <tr>\n      <th>3</th>\n      <td>01410d9c60d</td>\n      <td>1</td>\n      <td>11</td>\n      <td>11087</td>\n      <td>2</td>\n      <td>2</td>\n      <td>1</td>\n      <td>4</td>\n      <td>1</td>\n      <td>0</td>\n      <td>...</td>\n      <td>11</td>\n      <td>6</td>\n      <td>-0.357925</td>\n      <td>0.952032</td>\n      <td>False</td>\n      <td>0.0</td>\n      <td>0.0</td>\n      <td>16.065126</td>\n      <td>155.000000</td>\n      <td>Data Not Available</td>\n    </tr>\n    <tr>\n      <th>4</th>\n      <td>015ff82b55c</td>\n      <td>1</td>\n      <td>11</td>\n      <td>11094</td>\n      <td>2</td>\n      <td>2</td>\n      <td>1</td>\n      <td>1</td>\n      <td>1</td>\n      <td>0</td>\n      <td>...</td>\n      <td>10</td>\n      <td>6</td>\n      <td>-0.357925</td>\n      <td>1.952032</td>\n      <td>False</td>\n      <td>0.0</td>\n      <td>1.0</td>\n      <td>16.065126</td>\n      <td>56.000000</td>\n      <td>Data Not Available</td>\n    </tr>\n    <tr>\n      <th>5</th>\n      <td>015ff82b55c</td>\n      <td>1</td>\n      <td>11</td>\n      <td>11094</td>\n      <td>2</td>\n      <td>2</td>\n      <td>1</td>\n      <td>1</td>\n      <td>1</td>\n      <td>0</td>\n      <td>...</td>\n      <td>10</td>\n      <td>6</td>\n      <td>0.000000</td>\n      <td>4.000000</td>\n      <td>False</td>\n      <td>0.0</td>\n      <td>1.0</td>\n      <td>16.065126</td>\n      <td>56.000000</td>\n      <td>Data Not Available</td>\n    </tr>\n    <tr>\n      <th>6</th>\n      <td>01c39d3df0d</td>\n      <td>1</td>\n      <td>11</td>\n      <td>11094</td>\n      <td>2</td>\n      <td>1</td>\n      <td>2</td>\n      <td>3</td>\n      <td>2</td>\n      <td>1</td>\n      <td>...</td>\n      <td>16</td>\n      <td>10</td>\n      <td>-0.357925</td>\n      <td>2.952032</td>\n      <td>False</td>\n      <td>0.0</td>\n      <td>0.0</td>\n      <td>16.065126</td>\n      <td>290.000000</td>\n      <td>Data Not Available</td>\n    </tr>\n    <tr>\n      <th>7</th>\n      <td>027fe2e901f</td>\n      <td>1</td>\n      <td>11</td>\n      <td>11003</td>\n      <td>2</td>\n      <td>2</td>\n      <td>1</td>\n      <td>3</td>\n      <td>2</td>\n      <td>1</td>\n      <td>...</td>\n      <td>7</td>\n      <td>6</td>\n      <td>0.076923</td>\n      <td>0.000000</td>\n      <td>False</td>\n      <td>0.0</td>\n      <td>1.0</td>\n      <td>16.065126</td>\n      <td>21.666667</td>\n      <td>Data Not Available</td>\n    </tr>\n    <tr>\n      <th>8</th>\n      <td>027fe2e901f</td>\n      <td>1</td>\n      <td>11</td>\n      <td>11003</td>\n      <td>2</td>\n      <td>2</td>\n      <td>1</td>\n      <td>3</td>\n      <td>2</td>\n      <td>1</td>\n      <td>...</td>\n      <td>7</td>\n      <td>6</td>\n      <td>-0.357925</td>\n      <td>1.952032</td>\n      <td>False</td>\n      <td>1.0</td>\n      <td>0.0</td>\n      <td>16.065126</td>\n      <td>21.666667</td>\n      <td>Data Not Available</td>\n    </tr>\n    <tr>\n      <th>9</th>\n      <td>02afa0073ff</td>\n      <td>1</td>\n      <td>11</td>\n      <td>11024</td>\n      <td>2</td>\n      <td>3</td>\n      <td>2</td>\n      <td>4</td>\n      <td>2</td>\n      <td>0</td>\n      <td>...</td>\n      <td>13</td>\n      <td>11</td>\n      <td>-0.357925</td>\n      <td>2.952032</td>\n      <td>False</td>\n      <td>0.0</td>\n      <td>0.5</td>\n      <td>16.065126</td>\n      <td>64.666667</td>\n      <td>Data Not Available</td>\n    </tr>\n  </tbody>\n</table>\n<p>10 rows × 91 columns</p>\n</div>"
     },
     "execution_count": 76,
     "metadata": {},
     "output_type": "execute_result"
    }
   ],
   "source": [
    "combined_df.head(10)"
   ]
  },
  {
   "cell_type": "code",
   "execution_count": 77,
   "id": "530911ffce685df0",
   "metadata": {
    "ExecuteTime": {
     "end_time": "2024-01-09T20:36:48.318214800Z",
     "start_time": "2024-01-09T20:36:48.212432800Z"
    }
   },
   "outputs": [
    {
     "data": {
      "text/plain": "<Axes: xlabel='urbrur'>"
     },
     "execution_count": 77,
     "metadata": {},
     "output_type": "execute_result"
    },
    {
     "data": {
      "text/plain": "<Figure size 640x480 with 1 Axes>",
      "image/png": "[encoded data removed]"
     },
     "metadata": {},
     "output_type": "display_data"
    }
   ],
   "source": [
    "# Urban/Rural vs Living Conditions Level\n",
    "combined_df.groupby('urbrur')['living_conditions_level_score'].mean()\n",
    "combined_df.groupby('urbrur')['living_conditions_level_score'].mean().plot(kind='bar')\n"
   ]
  },
  {
   "cell_type": "code",
   "execution_count": 78,
   "id": "bbcea1683c8ec5e6",
   "metadata": {
    "ExecuteTime": {
     "end_time": "2024-01-09T20:36:48.412355700Z",
     "start_time": "2024-01-09T20:36:48.309183200Z"
    }
   },
   "outputs": [
    {
     "data": {
      "text/plain": "<Axes: xlabel='education_lvl'>"
     },
     "execution_count": 78,
     "metadata": {},
     "output_type": "execute_result"
    },
    {
     "data": {
      "text/plain": "<Figure size 640x480 with 1 Axes>",
      "image/png": "[encoded data removed]"
     },
     "metadata": {},
     "output_type": "display_data"
    }
   ],
   "source": [
    "# Education Level vs Living Conditions Level\n",
    "combined_df.groupby('education_lvl')['living_conditions_level_score'].mean()\n",
    "combined_df.groupby('education_lvl')['living_conditions_level_score'].mean().plot(kind='bar')"
   ]
  },
  {
   "cell_type": "code",
   "execution_count": 79,
   "id": "112d797d9127e8d4",
   "metadata": {
    "ExecuteTime": {
     "end_time": "2024-01-09T20:36:48.519389300Z",
     "start_time": "2024-01-09T20:36:48.404327600Z"
    }
   },
   "outputs": [
    {
     "data": {
      "text/plain": "<Axes: xlabel='urbrur'>"
     },
     "execution_count": 79,
     "metadata": {},
     "output_type": "execute_result"
    },
    {
     "data": {
      "text/plain": "<Figure size 640x480 with 1 Axes>",
      "image/png": "[encoded data removed]"
     },
     "metadata": {},
     "output_type": "display_data"
    }
   ],
   "source": [
    "# Print living conditions level scores via ubrur and education level\n",
    "combined_df.groupby(['urbrur', 'education_lvl'])['living_conditions_level_score'].mean()\n",
    "\n",
    "# plot the data\n",
    "combined_df.groupby(['urbrur', 'education_lvl'])['living_conditions_level_score'].mean().unstack().plot(kind='bar')\n"
   ]
  },
  {
   "cell_type": "code",
   "execution_count": 80,
   "id": "ec606bcf09263954",
   "metadata": {
    "ExecuteTime": {
     "end_time": "2024-01-09T20:36:48.532279600Z",
     "start_time": "2024-01-09T20:36:48.515383100Z"
    }
   },
   "outputs": [
    {
     "data": {
      "text/plain": "['hid',\n 'geo1',\n 'geo2',\n 'ea',\n 'urbrur',\n 'hhsize',\n 'statocc',\n 'rooms',\n 'bedrooms',\n 'phone',\n 'cell',\n 'car',\n 'bicycle',\n 'motorcycle',\n 'refrigerator',\n 'tv',\n 'radio',\n 'bank',\n 'deaths_12m',\n 'exp_01',\n 'exp_02',\n 'exp_03',\n 'exp_04',\n 'exp_05',\n 'exp_06',\n 'exp_07',\n 'exp_08',\n 'exp_09',\n 'exp_10',\n 'exp_11',\n 'exp_12',\n 'tot_exp',\n 'tot_food',\n 'share_food',\n 'pc_exp',\n 'quint_nat',\n 'quint_urb',\n 'quint_rur',\n 'hhweight_x',\n 'popweight',\n 'idno',\n 'relation',\n 'sex',\n 'age',\n 'age_month',\n 'marstat',\n 'religion',\n 'yrs_school',\n 'literacy',\n 'act_status',\n 'labor_force',\n 'occupation',\n 'industry',\n 'migrate_recent',\n 'disability',\n 'blind',\n 'deaf',\n 'mental',\n 'ch_weight',\n 'ch_height',\n 'children_born',\n 'children_surv',\n 'births_12m',\n 'hhweight_y',\n 'num_children',\n 'num_elderly',\n 'floor_score',\n 'walls_score',\n 'roof_score',\n 'spouse_count',\n 'average_age',\n 'is_female_head',\n 'employed_females',\n 'employed_females_count',\n 'female_count',\n 'ch_height_m',\n 'housing_density',\n 'dependency_ratio',\n 'employment_rate',\n 'house_quality_score',\n 'house_modernity_score',\n 'lifestyle_score',\n 'education_lvl',\n 'child_mortality_rate',\n 'stability_index',\n 'polygamous',\n 'disability_member_count',\n 'womens_empowerment_score',\n 'child_bmi',\n 'living_conditions_level_score',\n 'health_category']"
     },
     "execution_count": 80,
     "metadata": {},
     "output_type": "execute_result"
    }
   ],
   "source": [
    "# All Columns\n",
    "expented_df = combined_df\n",
    "\n",
    "column_list = list(expented_df.columns)\n",
    "column_list"
   ]
  },
  {
   "cell_type": "markdown",
   "id": "71b9dec4cc13364a",
   "metadata": {},
   "source": [
    "#### Convert Data to per Houshold Information"
   ]
  },
  {
   "cell_type": "code",
   "execution_count": 81,
   "id": "c83062e87e9c6221",
   "metadata": {
    "ExecuteTime": {
     "end_time": "2024-01-09T20:36:48.579309Z",
     "start_time": "2024-01-09T20:36:48.532279600Z"
    }
   },
   "outputs": [],
   "source": [
    "# Maximum Education Level per Household\n",
    "highest_edu_lvl = expented_df.groupby('hid')['education_lvl'].max().reset_index(name='highest_edu_lvl')\n",
    "\n",
    "expented_df = expented_df.merge(highest_edu_lvl, on='hid', how='left')\n",
    "\n",
    "expented_df = expented_df.drop('education_lvl', axis=1)"
   ]
  },
  {
   "cell_type": "code",
   "execution_count": 82,
   "id": "374f9bd8a6a36fb5",
   "metadata": {
    "ExecuteTime": {
     "end_time": "2024-01-09T20:36:48.601383500Z",
     "start_time": "2024-01-09T20:36:48.563387400Z"
    }
   },
   "outputs": [],
   "source": [
    "# Average CMR per Household\n",
    "avg_cmr = expented_df.groupby('hid')['child_mortality_rate'].mean().reset_index(name='avg_cmr')\n",
    "\n",
    "expented_df = expented_df.merge(avg_cmr, on='hid', how='left')\n",
    "\n",
    "expented_df = expented_df.drop('child_mortality_rate', axis=1)"
   ]
  },
  {
   "cell_type": "code",
   "execution_count": 83,
   "id": "237cd2cd42baa01c",
   "metadata": {
    "ExecuteTime": {
     "end_time": "2024-01-09T20:36:48.628477500Z",
     "start_time": "2024-01-09T20:36:48.594358400Z"
    }
   },
   "outputs": [],
   "source": [
    "# Stability Index per Household\n",
    "unstability_index = expented_df.groupby('hid')['stability_index'].sum().reset_index(name='unstability_index')\n",
    "\n",
    "expented_df = expented_df.merge(unstability_index, on='hid', how='left')\n",
    "\n",
    "expented_df = expented_df.drop('stability_index', axis=1)"
   ]
  },
  {
   "cell_type": "code",
   "execution_count": 84,
   "id": "191e9a82a67b5cd7",
   "metadata": {
    "ExecuteTime": {
     "end_time": "2024-01-09T20:36:48.689442300Z",
     "start_time": "2024-01-09T20:36:48.625466800Z"
    }
   },
   "outputs": [],
   "source": [
    "# Maximum Women's Empowerment Score per Household\n",
    "womens_empowerment_index = expented_df.groupby('hid')['womens_empowerment_score'].max().reset_index(name='womens_empowerment_index')\n",
    "\n",
    "expented_df = expented_df.merge(womens_empowerment_index, on='hid', how='left')\n",
    "\n",
    "expented_df = expented_df.drop('womens_empowerment_score', axis=1)"
   ]
  },
  {
   "cell_type": "code",
   "execution_count": 85,
   "id": "89133c8366397d3c",
   "metadata": {
    "ExecuteTime": {
     "end_time": "2024-01-09T20:36:48.691449900Z",
     "start_time": "2024-01-09T20:36:48.656574100Z"
    }
   },
   "outputs": [],
   "source": [
    "# Sum of Disability Member Count per Household\n",
    "disability_member_count = expented_df.groupby('hid')['disability_member_count'].sum().reset_index(name='disability_count')\n",
    "\n",
    "expented_df = expented_df.merge(disability_member_count, on='hid', how='left')\n",
    "\n",
    "expented_df = expented_df.drop('disability_member_count', axis=1)"
   ]
  },
  {
   "cell_type": "code",
   "execution_count": 86,
   "id": "693b3070433a6f43",
   "metadata": {
    "ExecuteTime": {
     "end_time": "2024-01-09T20:36:48.724566Z",
     "start_time": "2024-01-09T20:36:48.688439Z"
    }
   },
   "outputs": [],
   "source": [
    "# Maximum Religious Diversity per Household\n",
    "# Count the number of unique religions for each household\n",
    "unique_religion_counts = combined_df.groupby('hid')['religion'].nunique().reset_index(name='unique_religions')\n",
    "\n",
    "# Merge the unique religion counts with the main DataFrame\n",
    "expented_df = expented_df.merge(unique_religion_counts, on='hid', how='left')\n",
    "\n",
    "# Optionally, if you want to drop the original 'religion' column from expented_df\n",
    "expented_df = expented_df.drop('religion', axis=1)\n"
   ]
  },
  {
   "cell_type": "code",
   "execution_count": 87,
   "id": "85072a96995f4fe6",
   "metadata": {
    "ExecuteTime": {
     "end_time": "2024-01-09T20:36:48.768605700Z",
     "start_time": "2024-01-09T20:36:48.720550400Z"
    }
   },
   "outputs": [],
   "source": [
    "# One Hot Encoding for Health Category\n",
    "health_category_one_hot = pd.get_dummies(expented_df['health_category'], prefix='health')\n",
    "\n",
    "expented_df = pd.concat([expented_df, health_category_one_hot], axis=1)\n",
    "\n",
    "health_category_household = expented_df.groupby('hid')[health_category_one_hot.columns].sum().reset_index()\n",
    "\n",
    "expented_df = expented_df.merge(health_category_household, on='hid', how='left', suffixes=('', '_per_household'))\n",
    "\n",
    "expented_df = expented_df.drop('health_category', axis=1)\n",
    "expented_df = expented_df.drop(health_category_one_hot.columns, axis=1)\n",
    "expented_df = expented_df.drop('child_bmi', axis=1)"
   ]
  },
  {
   "cell_type": "code",
   "execution_count": 88,
   "id": "312d58fb19f7395d",
   "metadata": {
    "ExecuteTime": {
     "end_time": "2024-01-09T20:36:48.802723100Z",
     "start_time": "2024-01-09T20:36:48.768605700Z"
    }
   },
   "outputs": [],
   "source": [
    "# Male & Female Count per Household\n",
    "expented_df['male_count'] = (expented_df['sex'] == 1).astype(int)\n",
    "expented_df['female_count'] = (expented_df['sex'] == 2).astype(int)\n",
    "\n",
    "male_female_counts = expented_df.groupby('hid')[['male_count', 'female_count']].sum().reset_index()\n",
    "\n",
    "expented_df = expented_df.merge(male_female_counts, on='hid', how='left')\n",
    "\n",
    "expented_df['num_male'] = expented_df['male_count_y']\n",
    "expented_df['num_female'] = expented_df['female_count_y']\n",
    "\n",
    "expented_df = expented_df.drop(['sex', 'male_count_x', 'male_count_y', 'female_count_x', 'female_count_y'], axis=1)"
   ]
  },
  {
   "cell_type": "code",
   "execution_count": 89,
   "id": "df0dca0c166749be",
   "metadata": {
    "ExecuteTime": {
     "end_time": "2024-01-09T20:36:48.845872900Z",
     "start_time": "2024-01-09T20:36:48.799713200Z"
    }
   },
   "outputs": [],
   "source": [
    "# One Hot Encoding for Martial Status\n",
    "martial_status_one_hot = pd.get_dummies(expented_df['marstat'], prefix='marstat')\n",
    "\n",
    "expented_df = pd.concat([expented_df, martial_status_one_hot], axis=1)\n",
    "\n",
    "martial_status_household = expented_df.groupby('hid')[martial_status_one_hot.columns].sum().reset_index()\n",
    "\n",
    "expented_df = expented_df.merge(martial_status_household, on='hid', how='left', suffixes=('', '_per_household'))\n",
    "\n",
    "expented_df = expented_df.drop('marstat', axis=1)\n",
    "expented_df = expented_df.drop(martial_status_one_hot.columns, axis=1)"
   ]
  },
  {
   "cell_type": "code",
   "execution_count": 90,
   "id": "b2fd39715265144",
   "metadata": {
    "ExecuteTime": {
     "end_time": "2024-01-09T20:36:48.894040600Z",
     "start_time": "2024-01-09T20:36:48.846877400Z"
    }
   },
   "outputs": [],
   "source": [
    "# One Hot Encoding for Migration Status\n",
    "migration_status_one_hot = pd.get_dummies(expented_df['migrate_recent'], prefix='migrate')\n",
    "\n",
    "expented_df = pd.concat([expented_df, migration_status_one_hot], axis=1)\n",
    "\n",
    "migration_status_household = expented_df.groupby('hid')[migration_status_one_hot.columns].sum().reset_index()\n",
    "\n",
    "expented_df = expented_df.merge(migration_status_household, on='hid', how='left', suffixes=('', '_per_household'))\n",
    "\n",
    "expented_df = expented_df.drop('migrate_recent', axis=1)\n",
    "expented_df = expented_df.drop(migration_status_one_hot.columns, axis=1)"
   ]
  },
  {
   "cell_type": "code",
   "execution_count": 91,
   "id": "751da0c70ce5857d",
   "metadata": {
    "ExecuteTime": {
     "end_time": "2024-01-09T20:36:48.975180800Z",
     "start_time": "2024-01-09T20:36:48.894040600Z"
    }
   },
   "outputs": [],
   "source": [
    "# One Hot Encoding for Occupation & Industry\n",
    "occupation_one_hot = pd.get_dummies(expented_df['occupation'], prefix='occupation')\n",
    "industry_one_hot = pd.get_dummies(expented_df['industry'], prefix='industry')\n",
    "\n",
    "expented_df = pd.concat([expented_df, occupation_one_hot, industry_one_hot], axis=1)\n",
    "\n",
    "occupation_household = expented_df.groupby('hid')[occupation_one_hot.columns].sum().reset_index()\n",
    "industry_household = expented_df.groupby('hid')[industry_one_hot.columns].sum().reset_index()\n",
    "\n",
    "expented_df = expented_df.merge(occupation_household, on='hid', how='left', suffixes=('', '_per_household'))\n",
    "expented_df = expented_df.merge(industry_household, on='hid', how='left', suffixes=('', '_per_household'))\n",
    "\n",
    "expented_df = expented_df.drop('occupation', axis=1)\n",
    "expented_df = expented_df.drop('industry', axis=1)\n",
    "expented_df = expented_df.drop(occupation_one_hot.columns, axis=1)\n",
    "expented_df = expented_df.drop(industry_one_hot.columns, axis=1)"
   ]
  },
  {
   "cell_type": "code",
   "execution_count": 92,
   "id": "ae9037472c47a65f",
   "metadata": {
    "ExecuteTime": {
     "end_time": "2024-01-09T20:36:49.024801700Z",
     "start_time": "2024-01-09T20:36:48.975180800Z"
    }
   },
   "outputs": [],
   "source": [
    "# Percentage of Literate People per Household\n",
    "literate_df = expented_df[expented_df['literacy'] != 0] # Filter out individuals for whom literacy is not applicable\n",
    "\n",
    "num_literate = literate_df[literate_df['literacy'] == 1].groupby('hid').size().reset_index(name='num_literate')\n",
    "\n",
    "total_applicable = literate_df.groupby('hid').size().reset_index(name='total_applicable')\n",
    "\n",
    "literate_stats = num_literate.merge(total_applicable, on='hid')\n",
    "\n",
    "literate_stats['percent_literate'] = (literate_stats['num_literate'] / literate_stats['total_applicable']) * 100\n",
    "\n",
    "expented_df = expented_df.merge(literate_stats[['hid', 'percent_literate']], on='hid', how='left')\n",
    "\n",
    "expented_df = expented_df.drop('literacy', axis=1)"
   ]
  },
  {
   "cell_type": "code",
   "execution_count": 93,
   "id": "e5cde9b3384f6e64",
   "metadata": {
    "ExecuteTime": {
     "end_time": "2024-01-09T20:36:49.058435200Z",
     "start_time": "2024-01-09T20:36:49.023348300Z"
    }
   },
   "outputs": [],
   "source": [
    "# Total Number of Children Born per Household\n",
    "total_children_born_per_household = expented_df.groupby('hid')['children_born'].sum().reset_index(name='total_children_born')\n",
    "\n",
    "expented_df = expented_df.merge(total_children_born_per_household, on='hid', how='left')\n",
    "\n",
    "expented_df = expented_df.drop('children_born', axis=1)"
   ]
  },
  {
   "cell_type": "code",
   "execution_count": 94,
   "id": "6ef4d8a9cf346629",
   "metadata": {
    "ExecuteTime": {
     "end_time": "2024-01-09T20:36:49.075493500Z",
     "start_time": "2024-01-09T20:36:49.055423900Z"
    }
   },
   "outputs": [],
   "source": [
    "# Remove individual columns\n",
    "columns_to_drop = ['idno', 'relation', 'age', 'age_month', 'yrs_school', 'act_status', 'labor_force', 'disability', 'blind', 'deaf', 'mental', 'ch_weight', 'ch_height', 'children_surv',\n",
    "                   'births_12m', 'floor_score', 'walls_score', 'roof_score', 'spouse_count', 'is_female_head', 'employed_females', 'employed_females_count',\n",
    "                   'ch_height_m']\n",
    "\n",
    "expented_df = expented_df.drop(columns_to_drop, axis=1)"
   ]
  },
  {
   "cell_type": "code",
   "execution_count": 95,
   "id": "1f58cc39407e9c8c",
   "metadata": {
    "ExecuteTime": {
     "end_time": "2024-01-09T20:36:49.123660700Z",
     "start_time": "2024-01-09T20:36:49.071479900Z"
    }
   },
   "outputs": [],
   "source": [
    "# Drop duplicate rows\n",
    "expented_df = expented_df.drop_duplicates()"
   ]
  },
  {
   "cell_type": "code",
   "execution_count": 96,
   "id": "fa1335595af5962",
   "metadata": {
    "ExecuteTime": {
     "end_time": "2024-01-09T20:36:49.135702500Z",
     "start_time": "2024-01-09T20:36:49.119646700Z"
    }
   },
   "outputs": [
    {
     "data": {
      "text/plain": "            hid  geo1  geo2     ea  urbrur  hhsize  statocc  rooms  bedrooms  \\\n0   00a191396a2     1    11  11066       2       1        1      1         1   \n1   0111c7fa67c     1    11  11066       2       1        2      1         0   \n2   01410d9c60d     1    11  11087       2       2        1      4         1   \n4   015ff82b55c     1    11  11094       2       2        1      1         1   \n6   01c39d3df0d     1    11  11094       2       1        2      3         2   \n7   027fe2e901f     1    11  11003       2       2        1      3         2   \n9   02afa0073ff     1    11  11024       2       3        2      4         2   \n12  033e22694f2     1    11  11041       2       2        1      3         2   \n14  03a770af9f0     1    11  11066       2       1        2      1         1   \n15  0424d8c9572     1    11  11034       2       4        3      3         2   \n\n    phone  ...  industry_8.0_per_household  industry_9.0_per_household  \\\n0       0  ...                           0                           0   \n1       0  ...                           0                           0   \n2       0  ...                           0                           0   \n4       0  ...                           0                           0   \n6       1  ...                           0                           0   \n7       1  ...                           0                           0   \n9       0  ...                           0                           0   \n12      1  ...                           0                           0   \n14      0  ...                           0                           0   \n15      0  ...                           0                           0   \n\n    industry_10.0_per_household  industry_11.0_per_household  \\\n0                             0                            0   \n1                             0                            0   \n2                             0                            1   \n4                             0                            0   \n6                             0                            0   \n7                             0                            0   \n9                             0                            2   \n12                            0                            0   \n14                            0                            0   \n15                            0                            0   \n\n    industry_12.0_per_household  industry_13.0_per_household  \\\n0                             0                            0   \n1                             0                            0   \n2                             0                            0   \n4                             0                            0   \n6                             0                            0   \n7                             0                            0   \n9                             0                            0   \n12                            0                            0   \n14                            0                            0   \n15                            0                            0   \n\n    industry_14.0_per_household  industry_15.0_per_household  \\\n0                             0                            0   \n1                             0                            0   \n2                             0                            0   \n4                             0                            0   \n6                             0                            0   \n7                             0                            0   \n9                             0                            0   \n12                            0                            1   \n14                            0                            0   \n15                            0                            0   \n\n    percent_literate  total_children_born  \n0              100.0             2.293728  \n1              100.0             1.000000  \n2              100.0             4.587456  \n4              100.0             4.293728  \n6              100.0             2.293728  \n7              100.0            15.293728  \n9              100.0             5.587456  \n12             100.0             2.293728  \n14             100.0             2.293728  \n15              50.0            16.881184  \n\n[10 rows x 107 columns]",
      "text/html": "<div>\n<style scoped>\n    .dataframe tbody tr th:only-of-type {\n        vertical-align: middle;\n    }\n\n    .dataframe tbody tr th {\n        vertical-align: top;\n    }\n\n    .dataframe thead th {\n        text-align: right;\n    }\n</style>\n<table border=\"1\" class=\"dataframe\">\n  <thead>\n    <tr style=\"text-align: right;\">\n      <th></th>\n      <th>hid</th>\n      <th>geo1</th>\n      <th>geo2</th>\n      <th>ea</th>\n      <th>urbrur</th>\n      <th>hhsize</th>\n      <th>statocc</th>\n      <th>rooms</th>\n      <th>bedrooms</th>\n      <th>phone</th>\n      <th>...</th>\n      <th>industry_8.0_per_household</th>\n      <th>industry_9.0_per_household</th>\n      <th>industry_10.0_per_household</th>\n      <th>industry_11.0_per_household</th>\n      <th>industry_12.0_per_household</th>\n      <th>industry_13.0_per_household</th>\n      <th>industry_14.0_per_household</th>\n      <th>industry_15.0_per_household</th>\n      <th>percent_literate</th>\n      <th>total_children_born</th>\n    </tr>\n  </thead>\n  <tbody>\n    <tr>\n      <th>0</th>\n      <td>00a191396a2</td>\n      <td>1</td>\n      <td>11</td>\n      <td>11066</td>\n      <td>2</td>\n      <td>1</td>\n      <td>1</td>\n      <td>1</td>\n      <td>1</td>\n      <td>0</td>\n      <td>...</td>\n      <td>0</td>\n      <td>0</td>\n      <td>0</td>\n      <td>0</td>\n      <td>0</td>\n      <td>0</td>\n      <td>0</td>\n      <td>0</td>\n      <td>100.0</td>\n      <td>2.293728</td>\n    </tr>\n    <tr>\n      <th>1</th>\n      <td>0111c7fa67c</td>\n      <td>1</td>\n      <td>11</td>\n      <td>11066</td>\n      <td>2</td>\n      <td>1</td>\n      <td>2</td>\n      <td>1</td>\n      <td>0</td>\n      <td>0</td>\n      <td>...</td>\n      <td>0</td>\n      <td>0</td>\n      <td>0</td>\n      <td>0</td>\n      <td>0</td>\n      <td>0</td>\n      <td>0</td>\n      <td>0</td>\n      <td>100.0</td>\n      <td>1.000000</td>\n    </tr>\n    <tr>\n      <th>2</th>\n      <td>01410d9c60d</td>\n      <td>1</td>\n      <td>11</td>\n      <td>11087</td>\n      <td>2</td>\n      <td>2</td>\n      <td>1</td>\n      <td>4</td>\n      <td>1</td>\n      <td>0</td>\n      <td>...</td>\n      <td>0</td>\n      <td>0</td>\n      <td>0</td>\n      <td>1</td>\n      <td>0</td>\n      <td>0</td>\n      <td>0</td>\n      <td>0</td>\n      <td>100.0</td>\n      <td>4.587456</td>\n    </tr>\n    <tr>\n      <th>4</th>\n      <td>015ff82b55c</td>\n      <td>1</td>\n      <td>11</td>\n      <td>11094</td>\n      <td>2</td>\n      <td>2</td>\n      <td>1</td>\n      <td>1</td>\n      <td>1</td>\n      <td>0</td>\n      <td>...</td>\n      <td>0</td>\n      <td>0</td>\n      <td>0</td>\n      <td>0</td>\n      <td>0</td>\n      <td>0</td>\n      <td>0</td>\n      <td>0</td>\n      <td>100.0</td>\n      <td>4.293728</td>\n    </tr>\n    <tr>\n      <th>6</th>\n      <td>01c39d3df0d</td>\n      <td>1</td>\n      <td>11</td>\n      <td>11094</td>\n      <td>2</td>\n      <td>1</td>\n      <td>2</td>\n      <td>3</td>\n      <td>2</td>\n      <td>1</td>\n      <td>...</td>\n      <td>0</td>\n      <td>0</td>\n      <td>0</td>\n      <td>0</td>\n      <td>0</td>\n      <td>0</td>\n      <td>0</td>\n      <td>0</td>\n      <td>100.0</td>\n      <td>2.293728</td>\n    </tr>\n    <tr>\n      <th>7</th>\n      <td>027fe2e901f</td>\n      <td>1</td>\n      <td>11</td>\n      <td>11003</td>\n      <td>2</td>\n      <td>2</td>\n      <td>1</td>\n      <td>3</td>\n      <td>2</td>\n      <td>1</td>\n      <td>...</td>\n      <td>0</td>\n      <td>0</td>\n      <td>0</td>\n      <td>0</td>\n      <td>0</td>\n      <td>0</td>\n      <td>0</td>\n      <td>0</td>\n      <td>100.0</td>\n      <td>15.293728</td>\n    </tr>\n    <tr>\n      <th>9</th>\n      <td>02afa0073ff</td>\n      <td>1</td>\n      <td>11</td>\n      <td>11024</td>\n      <td>2</td>\n      <td>3</td>\n      <td>2</td>\n      <td>4</td>\n      <td>2</td>\n      <td>0</td>\n      <td>...</td>\n      <td>0</td>\n      <td>0</td>\n      <td>0</td>\n      <td>2</td>\n      <td>0</td>\n      <td>0</td>\n      <td>0</td>\n      <td>0</td>\n      <td>100.0</td>\n      <td>5.587456</td>\n    </tr>\n    <tr>\n      <th>12</th>\n      <td>033e22694f2</td>\n      <td>1</td>\n      <td>11</td>\n      <td>11041</td>\n      <td>2</td>\n      <td>2</td>\n      <td>1</td>\n      <td>3</td>\n      <td>2</td>\n      <td>1</td>\n      <td>...</td>\n      <td>0</td>\n      <td>0</td>\n      <td>0</td>\n      <td>0</td>\n      <td>0</td>\n      <td>0</td>\n      <td>0</td>\n      <td>1</td>\n      <td>100.0</td>\n      <td>2.293728</td>\n    </tr>\n    <tr>\n      <th>14</th>\n      <td>03a770af9f0</td>\n      <td>1</td>\n      <td>11</td>\n      <td>11066</td>\n      <td>2</td>\n      <td>1</td>\n      <td>2</td>\n      <td>1</td>\n      <td>1</td>\n      <td>0</td>\n      <td>...</td>\n      <td>0</td>\n      <td>0</td>\n      <td>0</td>\n      <td>0</td>\n      <td>0</td>\n      <td>0</td>\n      <td>0</td>\n      <td>0</td>\n      <td>100.0</td>\n      <td>2.293728</td>\n    </tr>\n    <tr>\n      <th>15</th>\n      <td>0424d8c9572</td>\n      <td>1</td>\n      <td>11</td>\n      <td>11034</td>\n      <td>2</td>\n      <td>4</td>\n      <td>3</td>\n      <td>3</td>\n      <td>2</td>\n      <td>0</td>\n      <td>...</td>\n      <td>0</td>\n      <td>0</td>\n      <td>0</td>\n      <td>0</td>\n      <td>0</td>\n      <td>0</td>\n      <td>0</td>\n      <td>0</td>\n      <td>50.0</td>\n      <td>16.881184</td>\n    </tr>\n  </tbody>\n</table>\n<p>10 rows × 107 columns</p>\n</div>"
     },
     "execution_count": 96,
     "metadata": {},
     "output_type": "execute_result"
    }
   ],
   "source": [
    "expented_df.head(10)"
   ]
  },
  {
   "cell_type": "code",
   "execution_count": 97,
   "id": "9f37a670a60bd21",
   "metadata": {
    "ExecuteTime": {
     "end_time": "2024-01-09T20:36:49.160787500Z",
     "start_time": "2024-01-09T20:36:49.135702500Z"
    }
   },
   "outputs": [
    {
     "name": "stdout",
     "output_type": "stream",
     "text": [
      "<class 'pandas.core.frame.DataFrame'>\n",
      "Index: 7996 entries, 0 to 32339\n",
      "Columns: 107 entries, hid to total_children_born\n",
      "dtypes: bool(1), float64(19), int32(2), int64(84), object(1)\n",
      "memory usage: 6.5+ MB\n"
     ]
    }
   ],
   "source": [
    "expented_df.info()"
   ]
  },
  {
   "cell_type": "code",
   "execution_count": 98,
   "id": "6092e3abab025a44",
   "metadata": {
    "ExecuteTime": {
     "end_time": "2024-01-09T20:36:49.193902500Z",
     "start_time": "2024-01-09T20:36:49.151758100Z"
    }
   },
   "outputs": [
    {
     "data": {
      "text/plain": "False"
     },
     "execution_count": 98,
     "metadata": {},
     "output_type": "execute_result"
    }
   ],
   "source": [
    "has_duplicates = expented_df['hid'].duplicated().any()\n",
    "has_duplicates"
   ]
  },
  {
   "cell_type": "code",
   "execution_count": 99,
   "id": "3db5e1308d5f0c3b",
   "metadata": {
    "ExecuteTime": {
     "end_time": "2024-01-09T20:36:49.227817600Z",
     "start_time": "2024-01-09T20:36:49.166808900Z"
    }
   },
   "outputs": [],
   "source": [
    "# Remove UrbRur Related Columns\n",
    "columns_to_drop = ['hid', 'geo1', 'geo2', 'ea', 'quint_urb', 'quint_rur']\n",
    "\n",
    "expented_df = expented_df.drop(columns_to_drop, axis=1)"
   ]
  },
  {
   "cell_type": "markdown",
   "id": "596428bd",
   "metadata": {},
   "source": [
    "#### Once again saving the final data frame locally to use it in the \"3-Feature Selection\" notebook."
   ]
  },
  {
   "cell_type": "code",
   "execution_count": 100,
   "id": "50c4ad27432e558",
   "metadata": {
    "ExecuteTime": {
     "end_time": "2024-01-09T20:36:49.304969800Z",
     "start_time": "2024-01-09T20:36:49.181861400Z"
    }
   },
   "outputs": [],
   "source": [
    "expented_df.to_csv('datasets/generated_household_data.csv', index=False)"
   ]
  }
 ],
 "metadata": {
  "kernelspec": {
   "display_name": "Python 3 (ipykernel)",
   "language": "python",
   "name": "python3"
  },
  "language_info": {
   "codemirror_mode": {
    "name": "ipython",
    "version": 3
   },
   "file_extension": ".py",
   "mimetype": "text/x-python",
   "name": "python",
   "nbconvert_exporter": "python",
   "pygments_lexer": "ipython3",
   "version": "3.11.5"
  }
 },
 "nbformat": 4,
 "nbformat_minor": 5
}
